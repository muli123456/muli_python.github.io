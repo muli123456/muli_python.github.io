{
 "cells": [
  {
   "cell_type": "markdown",
   "metadata": {
    "toc": true
   },
   "source": [
    "<h1>Table of Contents<span class=\"tocSkip\"></span></h1>\n",
    "<div class=\"toc\"><ul class=\"toc-item\"><li><span><a href=\"#Your-assignment\" data-toc-modified-id=\"Your-assignment-1\"><span class=\"toc-item-num\">1&nbsp;&nbsp;</span>Your assignment</a></span></li><li><span><a href=\"#Original-Radar-equation\" data-toc-modified-id=\"Original-Radar-equation-2\"><span class=\"toc-item-num\">2&nbsp;&nbsp;</span>Original Radar equation</a></span></li><li><span><a href=\"#Complete-the-function-below-to-find-dbZ-given-Pr\" data-toc-modified-id=\"Complete-the-function-below-to-find-dbZ-given-Pr-3\"><span class=\"toc-item-num\">3&nbsp;&nbsp;</span>Complete the function below to find dbZ given Pr</a></span></li><li><span><a href=\"#Complete-the-function-below-to-find-RR-(mm/hour)-given-dbZ\" data-toc-modified-id=\"Complete-the-function-below-to-find-RR-(mm/hour)-given-dbZ-4\"><span class=\"toc-item-num\">4&nbsp;&nbsp;</span>Complete the function below to find RR (mm/hour) given dbZ</a></span></li><li><span><a href=\"#Complete-the-function-below-to-find-RR-given-dbZ\" data-toc-modified-id=\"Complete-the-function-below-to-find-RR-given-dbZ-5\"><span class=\"toc-item-num\">5&nbsp;&nbsp;</span>Complete the function below to find RR given dbZ</a></span></li></ul></div>"
   ]
  },
  {
   "cell_type": "markdown",
   "metadata": {
    "deletable": false,
    "editable": false,
    "nbgrader": {
     "cell_type": "markdown",
     "checksum": "e25b6849e07b0fa336cb5eb07910dbd1",
     "grade": false,
     "grade_id": "cell-0a34cf5b2266f058",
     "locked": true,
     "schema_version": 2,
     "solution": false
    }
   },
   "source": [
    "1. Suppose a Nexrad radar (Stull p.~246)  is\n",
    "   receiving a signal with power $P_r = -58\\ dBm$.  Using the radar\n",
    "   equation find the precipitation rate under the assumption that\n",
    "   there is no attenuation and that it is a rainstorm (i.e.~liquid water)\n",
    "   100 km away from the radar.  How does your precipitation estimate (in mm/hour)\n",
    "   change if $P_r$ remains the same but you:\n",
    "  \n",
    "   1.  mistakenly assume it's a snowstorm with no attenuation\n",
    "  \n",
    "   1.  miss the fact that there is really a factor of 2 (3 dbZ) attenuation\n",
    "       between the storm and the radar\n",
    "    \n",
    "  \n",
    "* For 1A, use the relationship that the precip rate in mm/hour and the reflectivity\n",
    "  are related approximately by $Z=2000R^2$ where the units are as above)\n",
    "  \n",
    "# Your assignment\n",
    "\n",
    "Complete the functions find_dbz, find_RR_liquid and find_RR_snow below.  I'll autotest them\n",
    "with tests 1, 2 and 3"
   ]
  },
  {
   "cell_type": "markdown",
   "metadata": {
    "deletable": false,
    "editable": false,
    "nbgrader": {
     "cell_type": "markdown",
     "checksum": "9350845246505b78c128399ab6427990",
     "grade": false,
     "grade_id": "cell-06639935fd87f931",
     "locked": true,
     "schema_version": 2,
     "solution": false
    }
   },
   "source": [
    "# Original Radar equation\n",
    "\n",
    "This is a copy from assignment 13"
   ]
  },
  {
   "cell_type": "code",
   "execution_count": 1,
   "metadata": {
    "deletable": false,
    "editable": false,
    "nbgrader": {
     "cell_type": "code",
     "checksum": "af687b2402e54acdffccd0ef674bcd46",
     "grade": false,
     "grade_id": "cell-dd262aca7f21c706",
     "locked": true,
     "schema_version": 2,
     "solution": false
    }
   },
   "outputs": [],
   "source": [
    "from numpy import log10\n",
    "from numpy.testing import assert_almost_equal\n",
    "import a301\n",
    "from pathlib import Path\n",
    "\n",
    "def findPr(Z,K2,La,R,R1=None,Pt=None,b=None,Z1=None):\n",
    "   \"\"\"\n",
    "    solve stull eqn 8.23\n",
    "    \n",
    "    Parameters\n",
    "    ----------\n",
    "    \n",
    "    input: Z (mm^6/m^3), K2 (unitless), La (unitless),R (km)\n",
    "           plus radar coefficients appropriate to given radar (like Nexrad)\n",
    "           \n",
    "    Returns\n",
    "    -------\n",
    "    \n",
    "    Pr in W \n",
    "   \"\"\" \n",
    "   if Z1 is None:\n",
    "      Z1=1.\n",
    "   Pr=Pt*b*K2/La**2.*(R1/R)**2.*(Z/Z1)\n",
    "   return Pr\n",
    "\n",
    "  \n",
    "#coefficents for nexrad\n",
    "R1=2.17e-10#range factor, km, Stull 8.25\n",
    "Pt=750.e3 #transmitted power, W, stull p. 246\n",
    "b=14255 #equipment factor, Stull 8.26\n",
    "nexrad=dict(R1=R1,Pt=Pt,b=b)\n",
    "\n",
    "\n"
   ]
  },
  {
   "cell_type": "markdown",
   "metadata": {
    "deletable": false,
    "editable": false,
    "nbgrader": {
     "cell_type": "markdown",
     "checksum": "92358bcc16b1750e4b4fb3ff720da1a6",
     "grade": false,
     "grade_id": "cell-60cd282d3fe0713e",
     "locked": true,
     "schema_version": 2,
     "solution": false
    }
   },
   "source": [
    "Read in my answer key when I run this notebook"
   ]
  },
  {
   "cell_type": "code",
   "execution_count": 2,
   "metadata": {
    "deletable": false,
    "editable": false,
    "nbgrader": {
     "cell_type": "code",
     "checksum": "0cc3e3256d08f803a61dabc6184820b9",
     "grade": false,
     "grade_id": "cell-8f6b0b453cc2ace3",
     "locked": true,
     "schema_version": 2,
     "solution": false
    }
   },
   "outputs": [],
   "source": [
    "import json, a301\n",
    "has_key=False\n",
    "ans_file = a301.test_dir / Path('assign14_sol.json')\n",
    "if ans_file.is_file():\n",
    "    with open(ans_file,'r') as f:\n",
    "        sol=json.load(f)\n",
    "    has_key=True"
   ]
  },
  {
   "cell_type": "markdown",
   "metadata": {},
   "source": [
    "# Complete the function below to find dbZ given Pr"
   ]
  },
  {
   "cell_type": "code",
   "execution_count": 3,
   "metadata": {
    "deletable": false,
    "nbgrader": {
     "cell_type": "code",
     "checksum": "c2318b87f59e8e499736b0311c4493d4",
     "grade": false,
     "grade_id": "cell-b0c68b3ac8f73c10",
     "locked": false,
     "schema_version": 2,
     "solution": true
    }
   },
   "outputs": [],
   "source": [
    "def find_dbz(Pr,K2,La,R,R1=None,Pt=None,b=None):\n",
    "   \"\"\"\n",
    "   calculate dbZ using Stull 8.28\n",
    "   \n",
    "   Parameters\n",
    "   ----------\n",
    "   \n",
    "    input: Pr (W), K2 (unitless), La (unitless),R (km)\n",
    "           plus radar coefficients appropriate to given radar (like Nexrad)\n",
    "           \n",
    "   Returns\n",
    "   -------\n",
    "   \n",
    "   dbZ: float\n",
    "      decibels referenced to 1 mm^6/m^3\n",
    "   \"\"\"\n",
    "   dd = 10**(log10(Pr/Pt)+2*log10(R/R1)-2*log10(K2**(1/2.)/La)-log10(b))\n",
    "   return dd"
   ]
  },
  {
   "cell_type": "markdown",
   "metadata": {},
   "source": [
    "# Complete the function below to find RR (mm/hour) given dbZ"
   ]
  },
  {
   "cell_type": "code",
   "execution_count": 4,
   "metadata": {
    "deletable": false,
    "nbgrader": {
     "cell_type": "code",
     "checksum": "efe3cc7d449847a16e8423a38fa62dfc",
     "grade": false,
     "grade_id": "cell-7aa75e8d2a5cec77",
     "locked": false,
     "schema_version": 2,
     "solution": true
    }
   },
   "outputs": [],
   "source": [
    "def find_RR_liquid(dbZ):\n",
    "   \"\"\"\n",
    "    find the rain rate in mm/hr using Stull 8.29\n",
    "    \n",
    "    Parameters\n",
    "    ----------\n",
    "    \n",
    "    dbZ:  reflectivity in dbZ referenced to 1 mm^6/m^3\n",
    "    \n",
    "    Returns\n",
    "    -------\n",
    "    \n",
    "    RR: float\n",
    "       rain rate (mm/hour)\n",
    "   \"\"\"\n",
    "   rain_r = 0.017 * 10**(0.0714*dbZ)\n",
    "   return rain_r\n"
   ]
  },
  {
   "cell_type": "markdown",
   "metadata": {},
   "source": [
    "# Complete the function below to find RR given dbZ\n",
    "\n",
    "Assuming $Z=2000 \\times {RR}^2$"
   ]
  },
  {
   "cell_type": "code",
   "execution_count": 5,
   "metadata": {
    "deletable": false,
    "nbgrader": {
     "cell_type": "code",
     "checksum": "92de276d142a8bf28b8f37e40fbe8561",
     "grade": false,
     "grade_id": "cell-352bd3084340f09f",
     "locked": false,
     "schema_version": 2,
     "solution": true
    }
   },
   "outputs": [],
   "source": [
    "def find_RR_snow(dbZ):\n",
    "   \"\"\"\n",
    "    find the snow rate in mm/hr assuming\n",
    "    Z=2000*RR**2.\n",
    "    \n",
    "    Parameters\n",
    "    ----------\n",
    "\n",
    "    dbZ:  reflectivity in dbZ referenced to 1 mm^6/m^3\n",
    "    \n",
    "    Returns\n",
    "    -------\n",
    "    \n",
    "    RR: float\n",
    "      Snow rate in liquid equivalent mm/hour\n",
    "   \"\"\"\n",
    "   re_factor = 10**(dbZ/10)\n",
    "   rain_r_snow = (re_factor/2000)**(1/2)\n",
    "   return rain_r_snow"
   ]
  },
  {
   "cell_type": "markdown",
   "metadata": {},
   "source": [
    "Test 1: \n",
    " \n",
    "     Suppose a Nexrad radar (Stull p.~246)  is\n",
    "     receiving a signal with returned power Pr = -58 dBm.  Using the radar\n",
    "     equation find the precipitation rate under the assumption that\n",
    "     there is no attenuation and that it is a rainstorm (i.e. liquid water)\n",
    "     100 km away from the radar."
   ]
  },
  {
   "cell_type": "code",
   "execution_count": 6,
   "metadata": {},
   "outputs": [
    {
     "name": "stderr",
     "output_type": "stream",
     "text": [
      "C:\\Users\\mu448\\Miniconda3\\lib\\site-packages\\ipykernel_launcher.py:16: RuntimeWarning: overflow encountered in double_scalars\n",
      "  app.launch_new_instance()\n"
     ]
    }
   ],
   "source": [
    "K2=0.93  #stull p. 245\n",
    "Pr=10**(-5.8)*1.e-3  #dBm=-58, convert from mWatts to Watts\n",
    "La=1\n",
    "R=100.  #km\n",
    "dbZ_q1=find_dbz(Pr,K2,La,R,**nexrad)\n",
    "RR_q1=find_RR_liquid(dbZ_q1)"
   ]
  },
  {
   "cell_type": "code",
   "execution_count": 7,
   "metadata": {
    "deletable": false,
    "editable": false,
    "nbgrader": {
     "cell_type": "code",
     "checksum": "122d85f989238620d5c00ec1c4d52135",
     "grade": true,
     "grade_id": "cell-3a41031ec19e6408",
     "locked": true,
     "points": 2,
     "schema_version": 2,
     "solution": false
    }
   },
   "outputs": [],
   "source": [
    "if has_key:\n",
    "    assert_almost_equal(dbZ_q1,sol['dbZ_q1'],decimal=1)\n",
    "    assert_almost_equal(RR_q1,sol['RR_q1'],decimal=1)"
   ]
  },
  {
   "cell_type": "markdown",
   "metadata": {
    "deletable": false,
    "editable": false,
    "nbgrader": {
     "cell_type": "markdown",
     "checksum": "eddbdc9158bc613d94147a5167d0b5c2",
     "grade": false,
     "grade_id": "cell-4b7d113e35157f59",
     "locked": true,
     "schema_version": 2,
     "solution": false
    }
   },
   "source": [
    "Test 2: \n",
    "\n",
    "    Now keep everything the same, but make the mistake of guessing that it's a snowstorm,\n",
    "    which means that K2=0.208 and we use the snowfall Z-RR relation\n",
    "    of Z=2000*RR**2.  What are your new guesses for dbZ and RR?\n",
    "        \n",
    "        "
   ]
  },
  {
   "cell_type": "code",
   "execution_count": 8,
   "metadata": {},
   "outputs": [
    {
     "name": "stderr",
     "output_type": "stream",
     "text": [
      "C:\\Users\\mu448\\Miniconda3\\lib\\site-packages\\ipykernel_launcher.py:17: RuntimeWarning: overflow encountered in double_scalars\n"
     ]
    }
   ],
   "source": [
    "K2=0.208 #p. 245\n",
    "dbZ_q2=find_dbz(Pr,K2,La,R,**nexrad)\n",
    "RR_q2=find_RR_snow(dbZ_q2)"
   ]
  },
  {
   "cell_type": "code",
   "execution_count": 9,
   "metadata": {
    "deletable": false,
    "editable": false,
    "nbgrader": {
     "cell_type": "code",
     "checksum": "405b18f05d4ea4506270ddaaeb72a831",
     "grade": true,
     "grade_id": "cell-722bf3b6d8cb37c0",
     "locked": true,
     "points": 2,
     "schema_version": 2,
     "solution": false
    }
   },
   "outputs": [],
   "source": [
    "if has_key:\n",
    "    assert_almost_equal(dbZ_q2,sol['dbZ_q2'],decimal=1)\n",
    "    assert_almost_equal(RR_q2,sol['RR_q2'],decimal=1)"
   ]
  },
  {
   "cell_type": "markdown",
   "metadata": {},
   "source": [
    "Test 3: \n",
    "    \n",
    "     Now assume it's rain, but put in an attenuation of La=1.2 between\n",
    "     between the target and the rainstorm.  What are your new guesses for dbZ and RR?"
   ]
  },
  {
   "cell_type": "code",
   "execution_count": 10,
   "metadata": {},
   "outputs": [
    {
     "name": "stderr",
     "output_type": "stream",
     "text": [
      "C:\\Users\\mu448\\Miniconda3\\lib\\site-packages\\ipykernel_launcher.py:16: RuntimeWarning: overflow encountered in double_scalars\n",
      "  app.launch_new_instance()\n"
     ]
    }
   ],
   "source": [
    "K2=0.93 #p. 245\n",
    "La=1.2\n",
    "dbZ_q3=find_dbz(Pr,K2,La,R,**nexrad)\n",
    "RR_q3=find_RR_liquid(dbZ_q3)"
   ]
  },
  {
   "cell_type": "code",
   "execution_count": 11,
   "metadata": {
    "deletable": false,
    "editable": false,
    "nbgrader": {
     "cell_type": "code",
     "checksum": "d5e0abd1f0d5d803e18acd7cc20e5037",
     "grade": true,
     "grade_id": "cell-6fb1eeb32921b9b4",
     "locked": true,
     "points": 2,
     "schema_version": 2,
     "solution": false
    }
   },
   "outputs": [],
   "source": [
    "if has_key:\n",
    "    assert_almost_equal(dbZ_q3,sol['dbZ_q3'],decimal=1)\n",
    "    assert_almost_equal(RR_q3,sol['RR_q3'],decimal=1)"
   ]
  },
  {
   "cell_type": "code",
   "execution_count": null,
   "metadata": {},
   "outputs": [],
   "source": []
  }
 ],
 "metadata": {
  "kernelspec": {
   "display_name": "Python 3",
   "language": "python",
   "name": "python3"
  },
  "language_info": {
   "codemirror_mode": {
    "name": "ipython",
    "version": 3
   },
   "file_extension": ".py",
   "mimetype": "text/x-python",
   "name": "python",
   "nbconvert_exporter": "python",
   "pygments_lexer": "ipython3",
   "version": "3.6.6"
  },
  "toc": {
   "base_numbering": 1,
   "nav_menu": {},
   "number_sections": true,
   "sideBar": false,
   "skip_h1_title": false,
   "title_cell": "Table of Contents",
   "title_sidebar": "Contents",
   "toc_cell": true,
   "toc_position": {},
   "toc_section_display": true,
   "toc_window_display": false
  }
 },
 "nbformat": 4,
 "nbformat_minor": 2
}
